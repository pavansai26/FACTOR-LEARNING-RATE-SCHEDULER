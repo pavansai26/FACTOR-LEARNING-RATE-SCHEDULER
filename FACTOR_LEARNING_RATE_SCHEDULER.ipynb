{
  "nbformat": 4,
  "nbformat_minor": 0,
  "metadata": {
    "colab": {
      "name": "FACTOR LEARNING RATE SCHEDULER.ipynb",
      "provenance": [],
      "private_outputs": true,
      "authorship_tag": "ABX9TyPne8WNAeojmP19cUTz6Iqc",
      "include_colab_link": true
    },
    "kernelspec": {
      "name": "python3",
      "display_name": "Python 3"
    }
  },
  "cells": [
    {
      "cell_type": "markdown",
      "metadata": {
        "id": "view-in-github",
        "colab_type": "text"
      },
      "source": [
        "<a href=\"https://colab.research.google.com/github/pavansai26/FACTOR-LEARNING-RATE-SCHEDULER/blob/master/FACTOR_LEARNING_RATE_SCHEDULER.ipynb\" target=\"_parent\"><img src=\"https://colab.research.google.com/assets/colab-badge.svg\" alt=\"Open In Colab\"/></a>"
      ]
    },
    {
      "cell_type": "code",
      "metadata": {
        "id": "NzSsiDwllwOP",
        "colab_type": "code",
        "colab": {}
      },
      "source": [
        "import numpy as np\n",
        "import matplotlib.pyplot as plt\n"
      ],
      "execution_count": null,
      "outputs": []
    },
    {
      "cell_type": "markdown",
      "metadata": {
        "id": "vTwhS0aamI7f",
        "colab_type": "text"
      },
      "source": [
        "## **formula**"
      ]
    },
    {
      "cell_type": "markdown",
      "metadata": {
        "id": "zcNe7vA2mMjn",
        "colab_type": "text"
      },
      "source": [
        "$\\eta_{E + 1}$= max($\\eta_{min}$,$\\eta_{t}$*$\\alpha$)"
      ]
    },
    {
      "cell_type": "markdown",
      "metadata": {
        "id": "gCV3XjIyoaF7",
        "colab_type": "text"
      },
      "source": [
        "$\\eta_{t}$ is the initial learning rate\n",
        "\n",
        "$\\eta_{min}$ is the required learning rate\n",
        "\n",
        "$\\alpha$ is the factor "
      ]
    },
    {
      "cell_type": "markdown",
      "metadata": {
        "id": "FMz2stbZpKD0",
        "colab_type": "text"
      },
      "source": [
        "# **implementation**"
      ]
    },
    {
      "cell_type": "code",
      "metadata": {
        "id": "JMjsNdEKmLeo",
        "colab_type": "code",
        "colab": {}
      },
      "source": [
        "class FactorScheduler():\n",
        "  def __init__ (self,factor=0.5,req_lr=1e-2,init_lr=2.0):\n",
        "    self.factor = factor\n",
        "    self.req_lr = req_lr\n",
        "    self.init_lr = init_lr\n",
        "\n",
        "  def __call__ (self,epoch):\n",
        "    self.init_lr = max(self.req_lr, self.init_lr*self.factor)\n",
        "    return self.init_lr"
      ],
      "execution_count": null,
      "outputs": []
    },
    {
      "cell_type": "code",
      "metadata": {
        "id": "keSzl6QhqP_H",
        "colab_type": "code",
        "colab": {}
      },
      "source": [
        "num_epochs = 100\n",
        "scheduler = FactorScheduler()\n",
        "plt.plot(np.arange(num_epochs),[scheduler(i) for i in range(num_epochs)])"
      ],
      "execution_count": null,
      "outputs": []
    },
    {
      "cell_type": "code",
      "metadata": {
        "id": "kzYspEY4sGXu",
        "colab_type": "code",
        "colab": {}
      },
      "source": [
        "num_epochs = 100\n",
        "scheduler = FactorScheduler(factor=0.9,req_lr=1e-7,init_lr=1.0)\n",
        "plt.plot(np.arange(num_epochs),[scheduler(i) for i in range(num_epochs)])"
      ],
      "execution_count": null,
      "outputs": []
    },
    {
      "cell_type": "code",
      "metadata": {
        "id": "4Ga2Pl5LsnhA",
        "colab_type": "code",
        "colab": {}
      },
      "source": [
        ""
      ],
      "execution_count": null,
      "outputs": []
    }
  ]
}